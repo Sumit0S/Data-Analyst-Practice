{
 "cells": [
  {
   "cell_type": "code",
   "execution_count": 2,
   "id": "79ba9cd5-4894-4365-93e6-40f81f943e47",
   "metadata": {},
   "outputs": [
    {
     "data": {
      "text/plain": [
       "array([[1, 2],\n",
       "       [4, 5],\n",
       "       [7, 8]])"
      ]
     },
     "execution_count": 2,
     "metadata": {},
     "output_type": "execute_result"
    }
   ],
   "source": [
    "# 1. Take 3 lists a,b,c containing 2 integers each. Create a numpy array of these lists and\n",
    "#         apply numpy functions including dtype, ndim, size, shape, and itemsize.\n",
    "\n",
    "import numpy as np\n",
    "a=[1,2]\n",
    "b=[4,5]\n",
    "c=[7,8]\n",
    "\n",
    "dp=np.array([a,b,c])\n",
    "dp"
   ]
  },
  {
   "cell_type": "code",
   "execution_count": 8,
   "id": "ab5c51e2-685d-46e4-add8-c4f809917346",
   "metadata": {},
   "outputs": [
    {
     "name": "stdout",
     "output_type": "stream",
     "text": [
      "int64\n",
      "2\n",
      "6\n",
      "(3, 2)\n",
      "8\n"
     ]
    }
   ],
   "source": [
    "print(dp.dtype)\n",
    "print(dp.ndim)\n",
    "print(dp.size)\n",
    "print(dp.shape)\n",
    "print(dp.itemsize)\n"
   ]
  },
  {
   "cell_type": "markdown",
   "id": "070e5c46-d62f-498e-8cad-5e6cbab91e70",
   "metadata": {
    "jp-MarkdownHeadingCollapsed": true
   },
   "source": [
    "2. Assume, you are given two lists:\n",
    "(i) a = [1,2,3,4,5], b = [6,7,8,9]\n",
    "(ii) a = [10,20,30], b = [10,50,30,70]\n",
    "(iii) a = [1,3,5,7], b = [2,3,5,8]\n",
    "(a) The task is to create a list which has all the elements of a and b in one\n",
    "dimension.\n",
    "(b) The task is to create a list which has all the elements of a and b in one dimension\n",
    "without repetition"
   ]
  },
  {
   "cell_type": "code",
   "execution_count": 9,
   "id": "3aab2e56-4789-4620-b39a-ceaa8f9295fd",
   "metadata": {},
   "outputs": [
    {
     "name": "stdout",
     "output_type": "stream",
     "text": [
      "Combined array 1: [1 2 3 4 5 6 7 8 9]\n",
      "Combined array 2: [10 20 30 10 50 30 70]\n",
      "Combined array 3: [1 3 5 7 2 3 5 8]\n"
     ]
    }
   ],
   "source": [
    "import numpy as np\n",
    "\n",
    "# Define the lists\n",
    "a1 = [1, 2, 3, 4, 5]\n",
    "b1 = [6, 7, 8, 9]\n",
    "a2 = [10, 20, 30]\n",
    "b2 = [10, 50, 30, 70]\n",
    "a3 = [1, 3, 5, 7]\n",
    "b3 = [2, 3, 5, 8]\n",
    "\n",
    "# Combine the lists using NumPy\n",
    "combined1 = np.concatenate((a1, b1))\n",
    "combined2 = np.concatenate((a2, b2))\n",
    "combined3 = np.concatenate((a3, b3))\n",
    "\n",
    "# Print the results\n",
    "print(\"Combined array 1:\", combined1)\n",
    "print(\"Combined array 2:\", combined2)\n",
    "print(\"Combined array 3:\", combined3)\n"
   ]
  },
  {
   "cell_type": "code",
   "execution_count": 10,
   "id": "6890e34f-ad91-4350-8098-93d8efecb514",
   "metadata": {},
   "outputs": [
    {
     "name": "stdout",
     "output_type": "stream",
     "text": [
      "Unique combined array 1: [1 2 3 4 5 6 7 8 9]\n",
      "Unique combined array 2: [10 20 30 50 70]\n",
      "Unique combined array 3: [1 2 3 5 7 8]\n"
     ]
    }
   ],
   "source": [
    "# Combine the lists without repetition using NumPy\n",
    "unique_combined1 = np.unique(np.concatenate((a1, b1)))\n",
    "unique_combined2 = np.unique(np.concatenate((a2, b2)))\n",
    "unique_combined3 = np.unique(np.concatenate((a3, b3)))\n",
    "\n",
    "# Print the results\n",
    "print(\"Unique combined array 1:\", unique_combined1)\n",
    "print(\"Unique combined array 2:\", unique_combined2)\n",
    "print(\"Unique combined array 3:\", unique_combined3)\n"
   ]
  },
  {
   "cell_type": "code",
   "execution_count": null,
   "id": "cee852b0-4467-4e1b-9bf0-b9e16f17332e",
   "metadata": {},
   "outputs": [],
   "source": []
  },
  {
   "cell_type": "markdown",
   "id": "0df9cea8-d598-4bc1-b330-ec1f42523d7d",
   "metadata": {},
   "source": [
    "Create an array that can store height of 15 students by taking user input and replace all\n",
    "elements of array which are greater than 6.5 by 7.0 ."
   ]
  },
  {
   "cell_type": "code",
   "execution_count": null,
   "id": "254bb189-752f-4d3a-905b-6019fa03db00",
   "metadata": {},
   "outputs": [],
   "source": [
    "num_students = 15\n",
    "\n",
    "heights = []\n",
    "\n",
    "for i in range(num_students):\n",
    "    height_value = float(input(f\"Enter height of student {i+1}: \"))\n",
    "    heights.append(height_value)\n",
    "\n",
    "heights_array = np.array(heights)\n",
    "\n",
    "heights_array[heights_array > 6.5] = 7.0\n",
    "\n",
    "print(\"Updated heights array:\", heights_array)\n"
   ]
  },
  {
   "cell_type": "code",
   "execution_count": null,
   "id": "7d2867b3-1434-4d1d-b968-1ddc27e98006",
   "metadata": {},
   "outputs": [],
   "source": []
  },
  {
   "cell_type": "code",
   "execution_count": null,
   "id": "0b5e8ad1-68ed-46b4-99b2-94515674c156",
   "metadata": {},
   "outputs": [],
   "source": [
    "\n"
   ]
  },
  {
   "cell_type": "code",
   "execution_count": 40,
   "id": "737a6003-767d-4934-b03e-dcd8d5cbc249",
   "metadata": {},
   "outputs": [
    {
     "name": "stdout",
     "output_type": "stream",
     "text": [
      "[[nan nan nan nan nan nan nan nan nan]\n",
      " [nan nan nan nan nan nan nan nan nan]\n",
      " [nan nan nan nan nan nan nan 26. 27.]\n",
      " [28. 29. 30. 31. 32. 33. 34. 35. 36.]\n",
      " [37. 38. 39. 40. 41. 42. 43. 44. 45.]\n",
      " [46. 47. 48. 49. 50. 51. 52. 53. 54.]\n",
      " [55. 56. 57. 58. 59. 60. 61. 62. 63.]\n",
      " [64. 65. 66. 67. 68. 69. 70. 71. 72.]\n",
      " [73. 74. 75. 76. 77. 78. 79. 80. 81.]]\n"
     ]
    }
   ],
   "source": [
    "import numpy as np\n",
    "\n",
    "numbers = np.arange(1, 82)\n",
    "\n",
    "matrix = numbers.reshape(9, 9).astype(float)\n",
    "\n",
    "matrix[matrix <= 25] = np.nan\n",
    "\n",
    "print(matrix)\n"
   ]
  },
  {
   "cell_type": "code",
   "execution_count": null,
   "id": "f352681f-6583-40ae-92d9-faf5a33689ec",
   "metadata": {},
   "outputs": [],
   "source": []
  }
 ],
 "metadata": {
  "kernelspec": {
   "display_name": "Python 3 (ipykernel)",
   "language": "python",
   "name": "python3"
  },
  "language_info": {
   "codemirror_mode": {
    "name": "ipython",
    "version": 3
   },
   "file_extension": ".py",
   "mimetype": "text/x-python",
   "name": "python",
   "nbconvert_exporter": "python",
   "pygments_lexer": "ipython3",
   "version": "3.11.8"
  }
 },
 "nbformat": 4,
 "nbformat_minor": 5
}
